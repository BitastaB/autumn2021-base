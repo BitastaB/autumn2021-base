{
 "cells": [
  {
   "cell_type": "markdown",
   "id": "d1635abc",
   "metadata": {},
   "source": [
    "In this tutorial we present an example of solving the bin packing problem. The example is divided into three sections:  Reading input data, applying a heuristic and printing the output.  \n",
    "\n",
    "Let's start by decribing the state. A state consists of a number of bins, boxes in the bins and unused boxes. Also, the state contains the total covered and uncoverd points.  \n",
    "Applying a bin packing algorithm to a state transforms a state to a new condition.  \n",
    "The following example shows a state that contains a single bin of 6x6 dimensions. In this bin 5 boxes are packed and they cover an area of 25 points leaving 11 uncovered points.  \n",
    "  \n",
    "Bin number: 1  \n",
    "Total uncovered points: 11  \n",
    "Total covered points: 25  \n",
    "Number of boxes: 5  \n",
    "Unused boxes: 0  \n",
    "Runtime: 0.22507309913635254  \n",
    "  \n",
    "Bin size:  \n",
    "6 6  \n",
    "\n",
    "![alt text](pics/state.png \"Title\")\n",
    "\n",
    "These states are saved in text files, and in the following we describe the structure of input files and I/O functions.  \n",
    "  \n",
    "**Reading input data**  \n",
    "The input file has the following structure:\n",
    "The first line contains two integers *bin_width* and *bin_height* representing the bin dimensions.\n",
    "This is followed by *n* lines *(1<=n)* indicating that there are *n* boxes, each line containing two integers *box_width* and *box_height* representing each box dimensions.\n",
    "The *n* lines can also contain the following 5 integers: \n",
    "*box_width*, *box_height*, *box_x*, *box_y*, *bin_id*.\n",
    "An example is the following input file called *test_input* which exists in the folder *test_instances*:  \n",
    "10 10  \n",
    "2 2  \n",
    "3 4  \n",
    "4 6  \n",
    "5 5  \n",
    "6 7  \n",
    "  \n",
    "The previous example means that we have a bin of size (10,10) and five boxes of the sizes [(2,2),(3,4),(4,6),(5,5),(6,7)].\n",
    "To read this input state, we use the function *read_state* which is defined in the class *ReadWrite*. This function takes as input the file path *test_input*. The returned state will be saved in the instance 'state'.  \n",
    "  "
   ]
  },
  {
   "cell_type": "code",
   "execution_count": 1,
   "id": "245ae4ab",
   "metadata": {},
   "outputs": [
    {
     "name": "stderr",
     "output_type": "stream",
     "text": [
      "/home/fouad/Uni/Autumn School/autumn2021-base-main(1)/autumn2021-base-main/Base/bp2DPlot.py:208: MatplotlibDeprecationWarning: Passing non-integers as three-element position specification is deprecated since 3.3 and will be removed two minor releases later.\n",
      "  axs = fig.add_subplot('111', aspect='equal', facecolor=bgcol)\n",
      "/home/fouad/Uni/Autumn School/autumn2021-base-main(1)/autumn2021-base-main/Base/bp2DPlot.py:55: MatplotlibDeprecationWarning: savefig() got unexpected keyword argument \"papertype\" which is no longer supported as of 3.3 and will become an error two minor releases later\n",
      "  fig.savefig(fname, facecolor=fig.get_facecolor(), edgecolor='w',\n"
     ]
    },
    {
     "name": "stdout",
     "output_type": "stream",
     "text": [
      "Is solution of first_fit valid? True!\n",
      "Is solution of first_fit_dec valid? True!\n",
      "Is solution of next_fit valid? True!\n",
      "Is solution of next_fit_dec valid? True!\n",
      "Is solution of most_enclosed_position valid? True!\n",
      "Is solution of max_rest valid? True!\n",
      "Is solution of best_fit valid? True!\n",
      "Is solution of first_fit valid? True!\n",
      "Is solution of first_fit_dec valid? True!\n",
      "Is solution of next_fit valid? True!\n",
      "Is solution of next_fit_dec valid? True!\n",
      "Is solution of most_enclosed_position valid? True!\n",
      "Is solution of max_rest valid? True!\n",
      "Is solution of best_fit valid? True!\n"
     ]
    }
   ],
   "source": [
    "import os\n",
    "\n",
    "import Base.bp2DState\n",
    "from Base.bp2DSimpleHeuristics import single_type_heuristic, first_fit, next_fit, most_enclosed_position, max_rest, \\\n",
    "    best_fit, first_fit_decreasing, next_fit_decreasing, get_all_heuristics\n",
    "from Base.bp2DState import State\n",
    "from Base.bpReadWrite import ReadWrite\n",
    "from Base.bp2DBox import Box\n",
    "from Base.bpStateGenerators import random_state_generator, state_generator\n",
    "\n",
    "\n",
    "def main():\n",
    "    if not os.path.exists(\"./vis\"):\n",
    "        os.mkdir(\"./vis\")\n",
    "\n",
    "    # Simple examples for read and write\n",
    "    state = ReadWrite.read_state(path=\"test_instances/test_1_input\")\n",
    "    ReadWrite.write_state(path=\"test_instances/test_1_output\", state=state)\n",
    "    single_type_heuristic(state, heuristic_step=first_fit_decreasing)\n",
    "    ReadWrite.write_state(path=\"test_instances/test_1_solution\", state=state)\n",
    "\n",
    "    state = ReadWrite.read_state(path=\"test_instances/test_1_input\")\n",
    "    solution = ReadWrite.read_state(path=\"test_instances/test_1_solution\")\n",
    "\n",
    "    #\n",
    "    # state = ReadWrite.read_state(path=\"test_instances/test_2_input\")\n",
    "    # ReadWrite.write_state(path=\"test_instances/test_2_output\", state=state)\n",
    "    # solution = single_type_heuristic(state, video=False)\n",
    "    # ReadWrite.write_state(path=\"test_instances/test_2_solution\", state=solution)\n",
    "    #\n",
    "    # state = ReadWrite.read_state(path=\"test_instances/test_3_input\")\n",
    "    # ReadWrite.write_state(path=\"test_instances/test_3_output\", state=state)\n",
    "    # solution = single_type_heuristic(state, video=False)\n",
    "    # ReadWrite.write_state(path=\"test_instances/test_3_solution\", state=solution)\n",
    "\n",
    "    # Comparison of heuristics on small state with boxes explicitely given\n",
    "    state_generator(path=\"test_instances/state_small\", bin_size=(10, 10),\n",
    "                    box_list=[(1, (1, 10)), (1, (1, 9)), (1, (9, 1)), (1, (1, 8)), (1, (8, 1)),\n",
    "                              (1, (1, 7)), (1, (7, 1)), (1, (1, 6)), (1, (6, 6))], seed=10)\n",
    "    for name, heuristic in get_all_heuristics():\n",
    "        state = ReadWrite.read_state(\"test_instances/state_small\")\n",
    "        single_type_heuristic(state, heuristic, plot_result=True, plot_name=name)\n",
    "        ReadWrite.write_state(path=f\"test_instances/solution_small_{name}\", state=state)\n",
    "\n",
    "        state = ReadWrite.read_state(\"test_instances/state_random_big\")\n",
    "        solution = ReadWrite.read_state(path=f\"test_instances/solution_big_{name}\")\n",
    "        print(f\"Is solution of {name} valid? {solution.is_valid(state)}!\")\n",
    "\n",
    "    # Comparison of heuristics on random state\n",
    "    random_state_generator(path=\"test_instances/state_random_big\", bin_size=(10, 10), box_width_min=2,\n",
    "                           box_num=1000)\n",
    "    for name, heuristic in get_all_heuristics():\n",
    "        state = ReadWrite.read_state(\"test_instances/state_random_big\")\n",
    "        single_type_heuristic(state, heuristic)\n",
    "        ReadWrite.write_state(path=f\"test_instances/solution_big_{name}\", state=state)\n",
    "\n",
    "        state = ReadWrite.read_state(\"test_instances/state_random_big\")\n",
    "        solution = ReadWrite.read_state(path=f\"test_instances/solution_big_{name}\")\n",
    "        print(f\"Is solution of {name} valid? {solution.is_valid(state)}!\")\n",
    "\n",
    "if __name__ == '__main__':\n",
    "    main()\n"
   ]
  },
  {
   "cell_type": "code",
   "execution_count": null,
   "id": "3e22463a",
   "metadata": {},
   "outputs": [],
   "source": [
    "state = ReadWrite.read_state(\"test_instances/test_3_input\")"
   ]
  },
  {
   "cell_type": "markdown",
   "id": "f81782cd",
   "metadata": {},
   "source": [
    "We could also generate a new state by giving the boxes explicitely as in the following example: "
   ]
  },
  {
   "cell_type": "code",
   "execution_count": null,
   "id": "3e383ae3",
   "metadata": {},
   "outputs": [],
   "source": [
    "state_generator(path=\"test_instances/state_small\", bin_size=(10, 9),\n",
    "box_list=[(1, (1, 10)), (1, (1, 9)), (1, (9, 1)), (1, (1, 8)), (1, (8, 1)),\n",
    "(1, (1, 7)), (1, (7, 1)), (1, (1, 6)), (1, (6, 6))], seed=10)"
   ]
  },
  {
   "cell_type": "markdown",
   "id": "7a0adc6a",
   "metadata": {},
   "source": [
    "After reading the input, the initial state now is ready to apply a bin packing algorithm on. \n",
    "\n",
    "Note: environment... how to run ... setup .... jupiter notebook run.... run code here."
   ]
  },
  {
   "cell_type": "markdown",
   "id": "1e579db0",
   "metadata": {},
   "source": [
    "**Applying a heuristic**  \n",
    "\n",
    "The second step is applying a packing heuristic to our state in order to solve the bin packing problem. We execute the *single_type_heuristic* function and assign the value True to the arguement *plot_result* to trigger the *plot_packing_state* function.   The *single_type_heuristic* function is defined and used as follows:  "
   ]
  },
  {
   "cell_type": "code",
   "execution_count": null,
   "id": "4292902f",
   "metadata": {},
   "outputs": [],
   "source": [
    "def single_type_heuristic(state: State, heuristic_step=random_fit, plot_result=False, plot_steps=False, plot_name=None):\n",
    "single_type_heuristic(state,plot_result=True)  "
   ]
  },
  {
   "cell_type": "markdown",
   "id": "e018c1c6",
   "metadata": {},
   "source": [
    "Some simple heuristics are implemented in the bp2DSimpleHeuristics.py file such as *best_fit*, *max_rest*, *random_fit*, *next_fit* and *first_fit*. Also, we can sort the boxes in a state using *sort_boxes_in_state* function.  \n",
    "Applying the heuristic results in a new state, and the following section shows how the outputs are written in the result file.  \n",
    "  "
   ]
  },
  {
   "cell_type": "markdown",
   "id": "c9c58167",
   "metadata": {},
   "source": [
    "**Outputting the solution**\n",
    "\n",
    "The output state is saved in a text file by applying the function *write_state* and specifing the name of the output file."
   ]
  },
  {
   "cell_type": "code",
   "execution_count": null,
   "id": "45f9cbc1",
   "metadata": {},
   "outputs": [],
   "source": [
    "ReadWrite.write_state(path=f\"test_instances/solution_big\", state=state)"
   ]
  },
  {
   "cell_type": "markdown",
   "id": "048d3e2d",
   "metadata": {},
   "source": [
    "The output file contains the state of the  bin packing problem, as follows:  \n",
    "State of a bin packing problem:  \n",
    " \n",
    "Bin number: 1  \n",
    "Total uncovered points: 11  \n",
    "Total covered points: 25  \n",
    "Number of boxes: 5  \n",
    "Unused boxes: 0  \n",
    "Runtime: 0.22507309913635254  \n",
    "  \n",
    "Bin size:  \n",
    "6 6  \n",
    "  \n",
    "Boxes (width, height) not in some bins:  \n",
    "  \n",
    "Boxes (width, height, x_position, y_position, bin_id) in bins:  \n",
    "3 2 0 3 0  \n",
    "3 4 3 0 0  \n",
    "1 2 0 1 0  \n",
    "1 1 0 0 0  \n",
    "2 2 1 0 0  \n",
    "  \n",
    "The x_position and y_position in the output file indicate the bottom left corner of the corresponding box.\n"
   ]
  },
  {
   "cell_type": "markdown",
   "id": "3d91e2a7",
   "metadata": {},
   "source": [
    "In order to illustrate the solution, the plot function outputs an image saved in the vis folder.  \n",
    "The following figure shows the packing solution that corresponds to the previous output file.  \n"
   ]
  },
  {
   "cell_type": "markdown",
   "id": "940c848d",
   "metadata": {},
   "source": [
    "![alt text](pics/plot.png)"
   ]
  },
  {
   "cell_type": "markdown",
   "id": "9f6a89c4",
   "metadata": {},
   "source": [
    "You can also check the validation of the solution state by applying *is_valid* function. This function verifies whether any open boxes are still without packing, checks for any ovrelapping between the packed boxes, compares the original state with the solution state and returns true if the solution is valid, otherwise it returns false. "
   ]
  },
  {
   "cell_type": "markdown",
   "id": "1ea4bdcc",
   "metadata": {},
   "source": [
    "#Requirements:\n",
    "\n",
    "To install the necessary requirements, we provide a environment.yml file that can be used with anaconda. Of course you can use any other means of installing the requirements listed in this file.\n",
    "\n",
    "\n",
    "The required packages are:\n",
    "matplotlib==3.4.2\n",
    "numpy==1.20.3\n",
    "\n",
    "The code could run using older versions as well.\n",
    "\n",
    "Jupyter Notebook\n",
    "\n",
    "The classic Jupzter Notebook can be installed with conda:\n",
    "'''conda install -c conda-forge notebook'''\n",
    "\n",
    "If you use pip, you can install it with:\n",
    "'''pip install notebook'''\n",
    "\n"
   ]
  }
 ],
 "metadata": {
  "kernelspec": {
   "display_name": "Python 3",
   "language": "python",
   "name": "python3"
  },
  "language_info": {
   "codemirror_mode": {
    "name": "ipython",
    "version": 3
   },
   "file_extension": ".py",
   "mimetype": "text/x-python",
   "name": "python",
   "nbconvert_exporter": "python",
   "pygments_lexer": "ipython3",
   "version": "3.8.10"
  }
 },
 "nbformat": 4,
 "nbformat_minor": 5
}
